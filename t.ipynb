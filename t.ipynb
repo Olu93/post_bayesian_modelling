{
 "cells": [
  {
   "cell_type": "code",
   "execution_count": 1,
   "metadata": {},
   "outputs": [
    {
     "name": "stdout",
     "output_type": "stream",
     "text": [
      "Traceback (most recent call last):\n",
      "  File \"/home/bestname/anaconda3/envs/ds/bin/matplotlib\", line 11, in <module>\n",
      "    sys.exit(plotting._matplotlib())\n",
      "AttributeError: module 'pandas.plotting' has no attribute '_matplotlib'\n"
     ]
    }
   ],
   "source": [
    "!matplotlib notebook"
   ]
  },
  {
   "cell_type": "code",
   "execution_count": null,
   "metadata": {},
   "outputs": [],
   "source": []
  }
 ],
 "metadata": {
  "interpreter": {
   "hash": "7aa9014c70b8dff1440d8a17c19a6240061258bb3ee1bfd262ba66220143582a"
  },
  "kernelspec": {
   "display_name": "Python 3.8.11 64-bit ('ds': conda)",
   "language": "python",
   "name": "python3"
  },
  "language_info": {
   "codemirror_mode": {
    "name": "ipython",
    "version": 3
   },
   "file_extension": ".py",
   "mimetype": "text/x-python",
   "name": "python",
   "nbconvert_exporter": "python",
   "pygments_lexer": "ipython3",
   "version": "3.8.11"
  },
  "orig_nbformat": 4
 },
 "nbformat": 4,
 "nbformat_minor": 2
}
